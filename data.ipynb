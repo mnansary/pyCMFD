{
 "cells": [
  {
   "cell_type": "markdown",
   "metadata": {},
   "source": [
    "# DataSets\n",
    "* **MICC_F2000**\n",
    "* **MICC_F220**\n",
    "* **MICC_F600**"
   ]
  },
  {
   "cell_type": "code",
   "execution_count": 1,
   "metadata": {},
   "outputs": [],
   "source": [
    "# MICC_F2000\n",
    "MICC_F2000_PATH='/media/ansary/DriveData/RESEARCH/CMFD/DATA/MICC-F2000/'\n",
    "# MICC_F220\n",
    "MICC_F220_PATH='/media/ansary/DriveData/RESEARCH/CMFD/DATA/MICC-F220/'\n",
    "# MICC_F600\n",
    "MICC_F600_PATH='/media/ansary/DriveData/RESEARCH/CMFD/DATA/MICC_F600/'\n",
    "# CoMoFoD\n",
    "CoMoFoD_PATH='/media/ansary/DriveData/RESEARCH/CMFD/DATA/CoMoFoD/'\n",
    "# Common Params\n",
    "SAVE_PATH='/media/ansary/DriveData/RESEARCH/CMFD/DATA/'\n",
    "IMG_DIM=256\n"
   ]
  },
  {
   "cell_type": "markdown",
   "metadata": {},
   "source": [
    "# Image And Target Creation"
   ]
  },
  {
   "cell_type": "code",
   "execution_count": 2,
   "metadata": {},
   "outputs": [
    {
     "name": "stdout",
     "output_type": "stream",
     "text": [
      "\u001b[32mInitializing:CoMoFoD\u001b[0m\n"
     ]
    },
    {
     "data": {
      "application/vnd.jupyter.widget-view+json": {
       "model_id": "128f7ce7390148c19d5736ebc9c782f6",
       "version_major": 2,
       "version_minor": 0
      },
      "text/plain": [
       "HBox(children=(FloatProgress(value=0.0, max=200.0), HTML(value='')))"
      ]
     },
     "metadata": {},
     "output_type": "display_data"
    },
    {
     "name": "stdout",
     "output_type": "stream",
     "text": [
      "\n",
      "\u001b[32mInitializing:MICC_F600\u001b[0m\n"
     ]
    },
    {
     "data": {
      "application/vnd.jupyter.widget-view+json": {
       "model_id": "0df146abda414d0ca05954e6df9b5457",
       "version_major": 2,
       "version_minor": 0
      },
      "text/plain": [
       "HBox(children=(FloatProgress(value=0.0, max=160.0), HTML(value='')))"
      ]
     },
     "metadata": {},
     "output_type": "display_data"
    },
    {
     "name": "stdout",
     "output_type": "stream",
     "text": [
      "\n",
      "\u001b[32mInitializing:MICC_F220\u001b[0m\n"
     ]
    },
    {
     "data": {
      "application/vnd.jupyter.widget-view+json": {
       "model_id": "a17ec73f5d7d4324b3999f63b7a7a101",
       "version_major": 2,
       "version_minor": 0
      },
      "text/plain": [
       "HBox(children=(FloatProgress(value=0.0, max=110.0), HTML(value='')))"
      ]
     },
     "metadata": {},
     "output_type": "display_data"
    },
    {
     "name": "stdout",
     "output_type": "stream",
     "text": [
      "\n",
      "\u001b[32mInitializing:MICC_F2000\u001b[0m\n"
     ]
    },
    {
     "data": {
      "application/vnd.jupyter.widget-view+json": {
       "model_id": "80999cfa36f649e69b87b69f4bfbefb5",
       "version_major": 2,
       "version_minor": 0
      },
      "text/plain": [
       "HBox(children=(FloatProgress(value=0.0, max=1298.0), HTML(value='')))"
      ]
     },
     "metadata": {},
     "output_type": "display_data"
    },
    {
     "name": "stdout",
     "output_type": "stream",
     "text": [
      "\n"
     ]
    }
   ],
   "source": [
    "import os\n",
    "from dataset import MICC_F2000,MICC_F220,MICC_F600,CoMoFoD\n",
    "# datasets\n",
    "DS=[CoMoFoD,MICC_F600,MICC_F220,MICC_F2000]\n",
    "PATHS=[CoMoFoD_PATH,MICC_F600_PATH,MICC_F220_PATH,MICC_F2000_PATH]\n",
    "\n",
    "for dpath,obj in zip(PATHS,DS):\n",
    "    ds=obj(dpath,SAVE_PATH,IMG_DIM)\n",
    "    ds.prepare()\n",
    "\n",
    "DS_DIR=os.path.join(SAVE_PATH,'DataSets')"
   ]
  },
  {
   "cell_type": "markdown",
   "metadata": {},
   "source": [
    "# Test Train Data"
   ]
  },
  {
   "cell_type": "code",
   "execution_count": 3,
   "metadata": {},
   "outputs": [
    {
     "name": "stdout",
     "output_type": "stream",
     "text": [
      "Merging Data: MICC_F220   for: Test\n"
     ]
    },
    {
     "data": {
      "application/vnd.jupyter.widget-view+json": {
       "model_id": "2a5d83d8e4354a38a705497b46791aa0",
       "version_major": 2,
       "version_minor": 0
      },
      "text/plain": [
       "HBox(children=(FloatProgress(value=0.0, max=110.0), HTML(value='')))"
      ]
     },
     "metadata": {},
     "output_type": "display_data"
    },
    {
     "name": "stdout",
     "output_type": "stream",
     "text": [
      "\n",
      "Merging Data: CoMoFoD   for: Train\n"
     ]
    },
    {
     "data": {
      "application/vnd.jupyter.widget-view+json": {
       "model_id": "71fcff90ab7a493bb8c0dc001c67097e",
       "version_major": 2,
       "version_minor": 0
      },
      "text/plain": [
       "HBox(children=(FloatProgress(value=0.0, max=200.0), HTML(value='')))"
      ]
     },
     "metadata": {},
     "output_type": "display_data"
    },
    {
     "name": "stdout",
     "output_type": "stream",
     "text": [
      "\n",
      "Merging Data: MICC_F600   for: Train\n"
     ]
    },
    {
     "data": {
      "application/vnd.jupyter.widget-view+json": {
       "model_id": "45a690f20766457d92c7d0ad312990ff",
       "version_major": 2,
       "version_minor": 0
      },
      "text/plain": [
       "HBox(children=(FloatProgress(value=0.0, max=160.0), HTML(value='')))"
      ]
     },
     "metadata": {},
     "output_type": "display_data"
    },
    {
     "name": "stdout",
     "output_type": "stream",
     "text": [
      "\n",
      "Merging Data: MICC_F2000   for: Train\n"
     ]
    },
    {
     "data": {
      "application/vnd.jupyter.widget-view+json": {
       "model_id": "c1d2bda6da624a9ea19210323900336e",
       "version_major": 2,
       "version_minor": 0
      },
      "text/plain": [
       "HBox(children=(FloatProgress(value=0.0, max=672.0), HTML(value='')))"
      ]
     },
     "metadata": {},
     "output_type": "display_data"
    },
    {
     "name": "stdout",
     "output_type": "stream",
     "text": [
      "\n"
     ]
    }
   ],
   "source": [
    "import shutil\n",
    "import cv2\n",
    "from tqdm.notebook import tqdm\n",
    "from glob import glob\n",
    "import numpy as np\n",
    "import matplotlib.pyplot as plt\n",
    "%matplotlib inline\n",
    "\n",
    "Test_Data_Idens=['MICC_F220']\n",
    "Test_dir=os.path.join(DS_DIR,'Test')\n",
    "\n",
    "Train_Data_Idens=['CoMoFoD','MICC_F600','MICC_F2000']\n",
    "Train_dir=os.path.join(DS_DIR,'Train')\n",
    "\n",
    "def create_dir(_path):\n",
    "    if not os.path.exists(_path):\n",
    "        os.mkdir(_path)\n",
    "\n",
    "def merge(Data_Idens,dest_dir,mode):\n",
    "    \n",
    "    mode_dir=os.path.join(DS_DIR,mode)\n",
    "    img_dir=os.path.join(mode_dir,'images')\n",
    "    tgt_dir=os.path.join(mode_dir,'targets')\n",
    "    \n",
    "    create_dir(mode_dir)\n",
    "    create_dir(img_dir)\n",
    "    create_dir(tgt_dir)\n",
    "    \n",
    "    data_count=0\n",
    "    \n",
    "    for data_iden in Data_Idens:\n",
    "        \n",
    "        print('Merging Data:',data_iden,'  for:',mode)\n",
    "    \n",
    "        for img_path in tqdm(glob(os.path.join(DS_DIR,data_iden,'images','*.*'))):\n",
    "            msk_path=str(img_path).replace('images','targets')\n",
    "            # img\n",
    "            shutil.copy(img_path,os.path.join(img_dir,\"{}.png\".format(data_count)))\n",
    "            # tgt\n",
    "            shutil.copy(msk_path,os.path.join(tgt_dir,\"{}.png\".format(data_count)))\n",
    "            data_count+=1\n",
    "\n",
    "\n",
    "merge(Test_Data_Idens,Test_dir,'Test')\n",
    "merge(Train_Data_Idens,Train_dir,'Train')            \n",
    "\n",
    "\n",
    "        "
   ]
  },
  {
   "cell_type": "markdown",
   "metadata": {},
   "source": [
    "# Augmentation Wrappers"
   ]
  },
  {
   "cell_type": "code",
   "execution_count": 4,
   "metadata": {},
   "outputs": [],
   "source": [
    "from albumentations import (Blur, Compose, HorizontalFlip, HueSaturationValue,\n",
    "                            IAAEmboss, IAASharpen, JpegCompression, OneOf,\n",
    "                            RandomBrightness, RandomBrightnessContrast,\n",
    "                            RandomContrast, RandomCrop, RandomGamma,IAAAdditiveGaussianNoise,\n",
    "                            Rotate, RGBShift, ShiftScaleRotate,RandomGridShuffle,\n",
    "                            Transpose, VerticalFlip, ElasticTransform, GridDistortion, OpticalDistortion)\n",
    " \n",
    "def aug():\n",
    "    return Compose([\n",
    "        HorizontalFlip(p=0.5),\n",
    "        VerticalFlip(p=0.5),\n",
    "        Rotate(always_apply=True, p=1),\n",
    "        Transpose(p=0.5),\n",
    "        RandomBrightnessContrast(p=0.5),\n",
    "        IAAAdditiveGaussianNoise(p=0.5),\n",
    "        RandomGamma(p=0.5),\n",
    "        IAAEmboss(p=0.5),\n",
    "        RGBShift(p=0.5),\n",
    "        Blur(p=0.5, blur_limit = 3)], p = 1)"
   ]
  },
  {
   "cell_type": "markdown",
   "metadata": {},
   "source": [
    "# Augmentation Data Functions"
   ]
  },
  {
   "cell_type": "code",
   "execution_count": 5,
   "metadata": {},
   "outputs": [
    {
     "name": "stdout",
     "output_type": "stream",
     "text": [
      "Augmenting Training Data\n"
     ]
    },
    {
     "data": {
      "application/vnd.jupyter.widget-view+json": {
       "model_id": "31f2ac3b626b4bcb99ecf9c56b974981",
       "version_major": 2,
       "version_minor": 0
      },
      "text/plain": [
       "HBox(children=(FloatProgress(value=0.0, max=1032.0), HTML(value='')))"
      ]
     },
     "metadata": {},
     "output_type": "display_data"
    },
    {
     "name": "stdout",
     "output_type": "stream",
     "text": [
      "\n"
     ]
    }
   ],
   "source": [
    "import imageio \n",
    "NB_EVAL=1024\n",
    "NB_TRAIN=10240\n",
    "TOTAL_DATA=NB_EVAL+NB_TRAIN\n",
    "DATA_COUNT=len([img_path for img_path in glob(os.path.join(Train_dir,'images','*.*'))])\n",
    "NB_NEEDED=TOTAL_DATA-DATA_COUNT\n",
    "GEN_FACTOR=(NB_NEEDED//DATA_COUNT)+1\n",
    "\n",
    "def aug_data(x_sample,y_sample):\n",
    "    augmented = aug()(image=x_sample, mask=y_sample)\n",
    "    img = augmented['image']\n",
    "    tgt = augmented['mask']\n",
    "    img=img.astype(np.uint8)\n",
    "    tgt=tgt.astype(np.uint8)\n",
    "    return img,tgt\n",
    "\n",
    "\n",
    "print('Augmenting Training Data')\n",
    "\n",
    "for img_path in tqdm(glob(os.path.join(Train_dir,'images','*.*'))):\n",
    "    msk_path=str(img_path).replace('images','targets')\n",
    "    # samples\n",
    "    x_sample=imageio.imread(img_path)\n",
    "    y_sample=imageio.imread(msk_path)\n",
    "    for _ in range(GEN_FACTOR):\n",
    "        img,tgt=aug_data(x_sample,y_sample)\n",
    "        imageio.imsave(os.path.join(Train_dir,'images',\"{}.png\".format(DATA_COUNT)),img)\n",
    "        imageio.imsave(os.path.join(Train_dir,'targets',\"{}.png\".format(DATA_COUNT)),tgt)\n",
    "        DATA_COUNT+=1\n",
    "   \n",
    "        "
   ]
  },
  {
   "cell_type": "markdown",
   "metadata": {},
   "source": [
    "# TFRecords For GCS"
   ]
  },
  {
   "cell_type": "code",
   "execution_count": 6,
   "metadata": {},
   "outputs": [],
   "source": [
    "import tensorflow as tf \n",
    "tf.__version__\n",
    "import random\n",
    "# record dir\n",
    "tf_dir=os.path.join(DS_DIR,'CMFDTF')\n",
    "tf_train=os.path.join(tf_dir,'Train')\n",
    "tf_eval=os.path.join(tf_dir,'Eval')\n",
    "tf_test=os.path.join(tf_dir,'Test')\n",
    "create_dir(tf_dir)\n",
    "create_dir(tf_train)\n",
    "create_dir(tf_eval)\n",
    "create_dir(tf_test)\n",
    "\n",
    "\n",
    "\n",
    "def _bytes_feature(value):\n",
    "    return tf.train.Feature(bytes_list=tf.train.BytesList(value=[value]))\n",
    "def _int64_feature(value):\n",
    "      return tf.train.Feature(int64_list=tf.train.Int64List(value=[value]))\n",
    "def _float_feature(value):\n",
    "      return tf.train.Feature(float_list=tf.train.FloatList(value=[value]))\n",
    "\n",
    "data_num    = 1024\n",
    "\n",
    "def to_tfrecord(image_paths,save_dir,r_num):\n",
    "    tfrecord_name='{}.tfrecord'.format(r_num)\n",
    "    tfrecord_path=os.path.join(save_dir,tfrecord_name)\n",
    "    print(tfrecord_path) \n",
    "    with tf.io.TFRecordWriter(tfrecord_path) as writer:    \n",
    "        for image_path in tqdm(image_paths):\n",
    "            target_path=str(image_path).replace('images','targets')\n",
    "            with(open(image_path,'rb')) as fid:\n",
    "                image_png_bytes=fid.read()\n",
    "            with(open(target_path,'rb')) as fid:\n",
    "                target_png_bytes=fid.read()\n",
    "            data ={ 'image':_bytes_feature(image_png_bytes),\n",
    "                    'target':_bytes_feature(target_png_bytes)\n",
    "            }\n",
    "            features=tf.train.Features(feature=data)\n",
    "            example= tf.train.Example(features=features)\n",
    "            serialized=example.SerializeToString()\n",
    "            writer.write(serialized)\n",
    "\n",
    "\n",
    "def genTFRecords(_paths,mode_dir):\n",
    "    random.shuffle(_paths)\n",
    "    for i in range(0,len(_paths),data_num):\n",
    "        image_paths= _paths[i:i+data_num]\n",
    "        random.shuffle(image_paths)        \n",
    "        r_num=i // data_num\n",
    "        if len(image_paths)==data_num:\n",
    "            to_tfrecord(image_paths,mode_dir,r_num)"
   ]
  },
  {
   "cell_type": "markdown",
   "metadata": {},
   "source": [
    "# Test Data Addition"
   ]
  },
  {
   "cell_type": "code",
   "execution_count": 7,
   "metadata": {},
   "outputs": [
    {
     "data": {
      "application/vnd.jupyter.widget-view+json": {
       "model_id": "55728ced04934daf8a30341e1159b866",
       "version_major": 2,
       "version_minor": 0
      },
      "text/plain": [
       "HBox(children=(FloatProgress(value=0.0, max=11352.0), HTML(value='')))"
      ]
     },
     "metadata": {},
     "output_type": "display_data"
    },
    {
     "name": "stdout",
     "output_type": "stream",
     "text": [
      "\n"
     ]
    },
    {
     "data": {
      "application/vnd.jupyter.widget-view+json": {
       "model_id": "7bc65dcce0fa4e12b9c17f9c81e23fa9",
       "version_major": 2,
       "version_minor": 0
      },
      "text/plain": [
       "HBox(children=(FloatProgress(value=0.0, max=88.0), HTML(value='')))"
      ]
     },
     "metadata": {},
     "output_type": "display_data"
    },
    {
     "name": "stdout",
     "output_type": "stream",
     "text": [
      "\n"
     ]
    }
   ],
   "source": [
    "data_paths=[img_path for img_path in tqdm(glob(os.path.join(Train_dir,'images','*.*')))]\n",
    "random.shuffle(data_paths)\n",
    "eval_paths=data_paths[:NB_EVAL]\n",
    "train_paths=data_paths[NB_EVAL:NB_EVAL+NB_TRAIN]\n",
    "test_num=128\n",
    "# test data addition\n",
    "test_count=len([img_path for img_path in glob(os.path.join(Test_dir,'images','*.*'))])\n",
    "test_paths=data_paths[NB_EVAL+NB_TRAIN:]\n",
    "for img_path in tqdm(test_paths):\n",
    "    msk_path=str(img_path).replace('images','targets')\n",
    "    # image\n",
    "    shutil.move(img_path,os.path.join(Test_dir,'images','{}.png'.format(test_count)))\n",
    "    #target\n",
    "    shutil.move(msk_path,os.path.join(Test_dir,'targets','{}.png'.format(test_count)))\n",
    "    test_count+=1\n",
    "    if test_count==test_num:\n",
    "        break\n",
    "    \n",
    "test_paths=[img_path for img_path in glob(os.path.join(Test_dir,'images','*.*'))]\n",
    "\n"
   ]
  },
  {
   "cell_type": "code",
   "execution_count": 8,
   "metadata": {},
   "outputs": [
    {
     "name": "stdout",
     "output_type": "stream",
     "text": [
      "/media/ansary/DriveData/RESEARCH/CMFD/DATA/DataSets/CMFDTF/Train/0.tfrecord\n"
     ]
    },
    {
     "data": {
      "application/vnd.jupyter.widget-view+json": {
       "model_id": "de25fe74ec9c4d42addbc3be71c79da3",
       "version_major": 2,
       "version_minor": 0
      },
      "text/plain": [
       "HBox(children=(FloatProgress(value=0.0, max=1024.0), HTML(value='')))"
      ]
     },
     "metadata": {},
     "output_type": "display_data"
    },
    {
     "name": "stdout",
     "output_type": "stream",
     "text": [
      "\n",
      "/media/ansary/DriveData/RESEARCH/CMFD/DATA/DataSets/CMFDTF/Train/1.tfrecord\n"
     ]
    },
    {
     "data": {
      "application/vnd.jupyter.widget-view+json": {
       "model_id": "0f6c030725204fb4a5aa663d8fcbca13",
       "version_major": 2,
       "version_minor": 0
      },
      "text/plain": [
       "HBox(children=(FloatProgress(value=0.0, max=1024.0), HTML(value='')))"
      ]
     },
     "metadata": {},
     "output_type": "display_data"
    },
    {
     "name": "stdout",
     "output_type": "stream",
     "text": [
      "\n",
      "/media/ansary/DriveData/RESEARCH/CMFD/DATA/DataSets/CMFDTF/Train/2.tfrecord\n"
     ]
    },
    {
     "data": {
      "application/vnd.jupyter.widget-view+json": {
       "model_id": "6bdb35eea7b04768b1ee5ab26329be85",
       "version_major": 2,
       "version_minor": 0
      },
      "text/plain": [
       "HBox(children=(FloatProgress(value=0.0, max=1024.0), HTML(value='')))"
      ]
     },
     "metadata": {},
     "output_type": "display_data"
    },
    {
     "name": "stdout",
     "output_type": "stream",
     "text": [
      "\n",
      "/media/ansary/DriveData/RESEARCH/CMFD/DATA/DataSets/CMFDTF/Train/3.tfrecord\n"
     ]
    },
    {
     "data": {
      "application/vnd.jupyter.widget-view+json": {
       "model_id": "934532576422410aa4194dae636e40b3",
       "version_major": 2,
       "version_minor": 0
      },
      "text/plain": [
       "HBox(children=(FloatProgress(value=0.0, max=1024.0), HTML(value='')))"
      ]
     },
     "metadata": {},
     "output_type": "display_data"
    },
    {
     "name": "stdout",
     "output_type": "stream",
     "text": [
      "\n",
      "/media/ansary/DriveData/RESEARCH/CMFD/DATA/DataSets/CMFDTF/Train/4.tfrecord\n"
     ]
    },
    {
     "data": {
      "application/vnd.jupyter.widget-view+json": {
       "model_id": "73e53bbd0f9c4e9d93d97ac00ae70cdc",
       "version_major": 2,
       "version_minor": 0
      },
      "text/plain": [
       "HBox(children=(FloatProgress(value=0.0, max=1024.0), HTML(value='')))"
      ]
     },
     "metadata": {},
     "output_type": "display_data"
    },
    {
     "name": "stdout",
     "output_type": "stream",
     "text": [
      "\n",
      "/media/ansary/DriveData/RESEARCH/CMFD/DATA/DataSets/CMFDTF/Train/5.tfrecord\n"
     ]
    },
    {
     "data": {
      "application/vnd.jupyter.widget-view+json": {
       "model_id": "1a9cd1e9b1974d339630469c2b7beb8d",
       "version_major": 2,
       "version_minor": 0
      },
      "text/plain": [
       "HBox(children=(FloatProgress(value=0.0, max=1024.0), HTML(value='')))"
      ]
     },
     "metadata": {},
     "output_type": "display_data"
    },
    {
     "name": "stdout",
     "output_type": "stream",
     "text": [
      "\n",
      "/media/ansary/DriveData/RESEARCH/CMFD/DATA/DataSets/CMFDTF/Train/6.tfrecord\n"
     ]
    },
    {
     "data": {
      "application/vnd.jupyter.widget-view+json": {
       "model_id": "27db8f67657d473483aa9ee0ff3d69f6",
       "version_major": 2,
       "version_minor": 0
      },
      "text/plain": [
       "HBox(children=(FloatProgress(value=0.0, max=1024.0), HTML(value='')))"
      ]
     },
     "metadata": {},
     "output_type": "display_data"
    },
    {
     "name": "stdout",
     "output_type": "stream",
     "text": [
      "\n",
      "/media/ansary/DriveData/RESEARCH/CMFD/DATA/DataSets/CMFDTF/Train/7.tfrecord\n"
     ]
    },
    {
     "data": {
      "application/vnd.jupyter.widget-view+json": {
       "model_id": "80d85160e1ca40a7b7ae834404061eeb",
       "version_major": 2,
       "version_minor": 0
      },
      "text/plain": [
       "HBox(children=(FloatProgress(value=0.0, max=1024.0), HTML(value='')))"
      ]
     },
     "metadata": {},
     "output_type": "display_data"
    },
    {
     "name": "stdout",
     "output_type": "stream",
     "text": [
      "\n",
      "/media/ansary/DriveData/RESEARCH/CMFD/DATA/DataSets/CMFDTF/Train/8.tfrecord\n"
     ]
    },
    {
     "data": {
      "application/vnd.jupyter.widget-view+json": {
       "model_id": "d15c42b4b9a74aad9ddf1cec68737339",
       "version_major": 2,
       "version_minor": 0
      },
      "text/plain": [
       "HBox(children=(FloatProgress(value=0.0, max=1024.0), HTML(value='')))"
      ]
     },
     "metadata": {},
     "output_type": "display_data"
    },
    {
     "name": "stdout",
     "output_type": "stream",
     "text": [
      "\n",
      "/media/ansary/DriveData/RESEARCH/CMFD/DATA/DataSets/CMFDTF/Train/9.tfrecord\n"
     ]
    },
    {
     "data": {
      "application/vnd.jupyter.widget-view+json": {
       "model_id": "14c9632307c54c588bbe835a411f41cc",
       "version_major": 2,
       "version_minor": 0
      },
      "text/plain": [
       "HBox(children=(FloatProgress(value=0.0, max=1024.0), HTML(value='')))"
      ]
     },
     "metadata": {},
     "output_type": "display_data"
    },
    {
     "name": "stdout",
     "output_type": "stream",
     "text": [
      "\n",
      "/media/ansary/DriveData/RESEARCH/CMFD/DATA/DataSets/CMFDTF/Eval/0.tfrecord\n"
     ]
    },
    {
     "data": {
      "application/vnd.jupyter.widget-view+json": {
       "model_id": "507a2acc26154585b57932c4d67b10a8",
       "version_major": 2,
       "version_minor": 0
      },
      "text/plain": [
       "HBox(children=(FloatProgress(value=0.0, max=1024.0), HTML(value='')))"
      ]
     },
     "metadata": {},
     "output_type": "display_data"
    },
    {
     "name": "stdout",
     "output_type": "stream",
     "text": [
      "\n",
      "/media/ansary/DriveData/RESEARCH/CMFD/DATA/DataSets/CMFDTF/Test/0.tfrecord\n"
     ]
    },
    {
     "data": {
      "application/vnd.jupyter.widget-view+json": {
       "model_id": "e9b783f86c534efd944d4ebac85d9cc6",
       "version_major": 2,
       "version_minor": 0
      },
      "text/plain": [
       "HBox(children=(FloatProgress(value=0.0, max=128.0), HTML(value='')))"
      ]
     },
     "metadata": {},
     "output_type": "display_data"
    },
    {
     "name": "stdout",
     "output_type": "stream",
     "text": [
      "\n"
     ]
    }
   ],
   "source": [
    "genTFRecords(train_paths,tf_train)\n",
    "genTFRecords(eval_paths,tf_eval)\n",
    "data_num=test_num\n",
    "genTFRecords(test_paths,tf_test)"
   ]
  }
 ],
 "metadata": {
  "kernelspec": {
   "display_name": "cmenv",
   "language": "python",
   "name": "cmenv"
  },
  "language_info": {
   "codemirror_mode": {
    "name": "ipython",
    "version": 3
   },
   "file_extension": ".py",
   "mimetype": "text/x-python",
   "name": "python",
   "nbconvert_exporter": "python",
   "pygments_lexer": "ipython3",
   "version": "3.6.9"
  }
 },
 "nbformat": 4,
 "nbformat_minor": 4
}
