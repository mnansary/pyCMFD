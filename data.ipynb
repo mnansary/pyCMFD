{
 "cells": [
  {
   "cell_type": "markdown",
   "metadata": {},
   "source": [
    "# Data Paths"
   ]
  },
  {
   "cell_type": "code",
   "execution_count": 1,
   "metadata": {},
   "outputs": [],
   "source": [
    "# MICC_F2000\n",
    "F2000_PATH='/media/ansary/DriveData/RESEARCH/CMFD/DATA/F2000/'\n",
    "# MICC_F220\n",
    "F220_PATH='/media/ansary/DriveData/RESEARCH/CMFD/DATA/F220/'\n",
    "# MICC_F600\n",
    "F600_PATH='/media/ansary/DriveData/RESEARCH/CMFD/DATA/F600/'\n",
    "# CoMoFoD\n",
    "CoMoFoD_PATH='/media/ansary/DriveData/RESEARCH/CMFD/DATA/CoMoFoD/'\n",
    "#CMFDdb_grip\n",
    "GRIP_PATH='/media/ansary/DriveData/RESEARCH/CMFD/DATA/GRIP/'\n",
    "#CMFD Dataset 0\n",
    "CVIP0_PATH='/media/ansary/DriveData/RESEARCH/CMFD/DATA/CVIP0/'\n",
    "#CMFD Dataset 1-2\n",
    "CVIP12_PATH='/media/ansary/DriveData/RESEARCH/CMFD/DATA/CVIP12/'\n",
    "#FFCMF\n",
    "FFCMF_PATH='/media/ansary/DriveData/RESEARCH/CMFD/DATA/FFCMF/'\n",
    "#COVERAGE\n",
    "COVERAGE_PATH='/media/ansary/DriveData/RESEARCH/CMFD/DATA/COVERAGE/'\n",
    "# CASIA_PATH\n",
    "CASIA_PATH='/media/ansary/DriveData/RESEARCH/CMFD/DATA/CASIA/'\n",
    "# COCO\n",
    "COCO_DATA_PATH='/media/ansary/DriveData/RESEARCH/CMFD/DATA/coco/train2014/'\n",
    "annFile='/media/ansary/DriveData/RESEARCH/CMFD/DATA/coco/annotations/instances_train2014.json'\n",
    "# Common Params\n",
    "SAVE_PATH='/media/ansary/DriveData/RESEARCH/CMFD/'\n",
    "IMG_DIM=256\n"
   ]
  },
  {
   "cell_type": "markdown",
   "metadata": {},
   "source": [
    "# Image And Target Creation"
   ]
  },
  {
   "cell_type": "code",
   "execution_count": 2,
   "metadata": {},
   "outputs": [
    {
     "data": {
      "application/vnd.jupyter.widget-view+json": {
       "model_id": "446d1d516e7e4b58b5f1de6a153ae70e",
       "version_major": 2,
       "version_minor": 0
      },
      "text/plain": [
       "HBox(children=(FloatProgress(value=0.0, max=200.0), HTML(value='')))"
      ]
     },
     "metadata": {},
     "output_type": "display_data"
    },
    {
     "name": "stdout",
     "output_type": "stream",
     "text": [
      "\n"
     ]
    },
    {
     "data": {
      "application/vnd.jupyter.widget-view+json": {
       "model_id": "1a206477f0844d218640fa5161090153",
       "version_major": 2,
       "version_minor": 0
      },
      "text/plain": [
       "HBox(children=(FloatProgress(value=0.0, max=1313.0), HTML(value='')))"
      ]
     },
     "metadata": {},
     "output_type": "display_data"
    },
    {
     "name": "stdout",
     "output_type": "stream",
     "text": [
      "\n"
     ]
    },
    {
     "data": {
      "application/vnd.jupyter.widget-view+json": {
       "model_id": "ab0338e236444639a8a4ccee8935ce8f",
       "version_major": 2,
       "version_minor": 0
      },
      "text/plain": [
       "HBox(children=(FloatProgress(value=0.0), HTML(value='')))"
      ]
     },
     "metadata": {},
     "output_type": "display_data"
    },
    {
     "name": "stdout",
     "output_type": "stream",
     "text": [
      "\n",
      "\u001b[32mInitializing:CVIP12\u001b[0m\n"
     ]
    },
    {
     "data": {
      "application/vnd.jupyter.widget-view+json": {
       "model_id": "15b5f0f758574fa0943c03db652e6b48",
       "version_major": 2,
       "version_minor": 0
      },
      "text/plain": [
       "HBox(children=(FloatProgress(value=0.0, max=20.0), HTML(value='')))"
      ]
     },
     "metadata": {},
     "output_type": "display_data"
    },
    {
     "name": "stdout",
     "output_type": "stream",
     "text": [
      "\n",
      "\u001b[32mInitializing:FFCMF\u001b[0m\n"
     ]
    },
    {
     "data": {
      "application/vnd.jupyter.widget-view+json": {
       "model_id": "7ada6a1c9bba467eb685337471a1444b",
       "version_major": 2,
       "version_minor": 0
      },
      "text/plain": [
       "HBox(children=(FloatProgress(value=0.0, max=5.0), HTML(value='')))"
      ]
     },
     "metadata": {},
     "output_type": "display_data"
    },
    {
     "name": "stdout",
     "output_type": "stream",
     "text": [
      "\n",
      "\u001b[32mInitializing:CVIP0\u001b[0m\n"
     ]
    },
    {
     "data": {
      "application/vnd.jupyter.widget-view+json": {
       "model_id": "c32f31c5aa604e25b4d311a80157cae3",
       "version_major": 2,
       "version_minor": 0
      },
      "text/plain": [
       "HBox(children=(FloatProgress(value=0.0, max=50.0), HTML(value='')))"
      ]
     },
     "metadata": {},
     "output_type": "display_data"
    },
    {
     "name": "stdout",
     "output_type": "stream",
     "text": [
      "\n",
      "\u001b[32mInitializing:GRIP\u001b[0m\n"
     ]
    },
    {
     "data": {
      "application/vnd.jupyter.widget-view+json": {
       "model_id": "0ca04cd8268045fea399c2b0a7464b95",
       "version_major": 2,
       "version_minor": 0
      },
      "text/plain": [
       "HBox(children=(FloatProgress(value=0.0, max=80.0), HTML(value='')))"
      ]
     },
     "metadata": {},
     "output_type": "display_data"
    },
    {
     "name": "stdout",
     "output_type": "stream",
     "text": [
      "\n",
      "\u001b[32mInitializing:F600\u001b[0m\n"
     ]
    },
    {
     "data": {
      "application/vnd.jupyter.widget-view+json": {
       "model_id": "b431b4275a264cf7b23392662fb3c819",
       "version_major": 2,
       "version_minor": 0
      },
      "text/plain": [
       "HBox(children=(FloatProgress(value=0.0, max=160.0), HTML(value='')))"
      ]
     },
     "metadata": {},
     "output_type": "display_data"
    },
    {
     "name": "stdout",
     "output_type": "stream",
     "text": [
      "\n",
      "\u001b[32mInitializing:F220\u001b[0m\n"
     ]
    },
    {
     "data": {
      "application/vnd.jupyter.widget-view+json": {
       "model_id": "7e3e685de0734bb7b7469e3ae0bdd3a3",
       "version_major": 2,
       "version_minor": 0
      },
      "text/plain": [
       "HBox(children=(FloatProgress(value=0.0, max=11.0), HTML(value='')))"
      ]
     },
     "metadata": {},
     "output_type": "display_data"
    },
    {
     "name": "stdout",
     "output_type": "stream",
     "text": [
      "\n",
      "\u001b[32mInitializing:F2000\u001b[0m\n"
     ]
    },
    {
     "data": {
      "application/vnd.jupyter.widget-view+json": {
       "model_id": "3ef8eef5dc3a4bc1bb03f0c993a5329f",
       "version_major": 2,
       "version_minor": 0
      },
      "text/plain": [
       "HBox(children=(FloatProgress(value=0.0, max=48.0), HTML(value='')))"
      ]
     },
     "metadata": {},
     "output_type": "display_data"
    },
    {
     "name": "stdout",
     "output_type": "stream",
     "text": [
      "\n"
     ]
    }
   ],
   "source": [
    "import os\n",
    "from glob import glob\n",
    "from dataset import F2000,F220,F600,CoMoFoD,GRIP,CVIP0,CVIP12,FFCMF,COVERAGE,CASIA\n",
    "from tqdm.notebook import tqdm\n",
    "# datasets\n",
    "DS=[CoMoFoD,CASIA,COVERAGE,CVIP12,FFCMF,CVIP0,GRIP,F600,F220,F2000]\n",
    "PATHS=[CoMoFoD_PATH,CASIA_PATH,COVERAGE_PATH,CVIP12_PATH,FFCMF_PATH,CVIP0_PATH,GRIP_PATH,F600_PATH,F220_PATH,F2000_PATH]\n",
    "DS_DIR=os.path.join(SAVE_PATH,'DataSet')\n",
    "TRAIN_DIR=os.path.join(DS_DIR,'Train')\n",
    "EVAL_DIR=os.path.join(DS_DIR,'Eval')\n",
    "\n",
    "for dpath,obj in zip(PATHS,DS):\n",
    "    ds=obj(dpath,SAVE_PATH,IMG_DIM)\n",
    "    ds.prepare()\n",
    "\n",
    "\n"
   ]
  },
  {
   "cell_type": "markdown",
   "metadata": {},
   "source": [
    "# COCO for creating synthetic data"
   ]
  },
  {
   "cell_type": "code",
   "execution_count": 3,
   "metadata": {},
   "outputs": [],
   "source": [
    "from pycocotools.coco import COCO\n",
    "import numpy as np\n",
    "import matplotlib.pyplot as plt\n",
    "from PIL import Image\n",
    "import cv2\n",
    "import random\n",
    "import collections\n",
    "from tqdm.notebook import tqdm"
   ]
  },
  {
   "cell_type": "code",
   "execution_count": 4,
   "metadata": {},
   "outputs": [
    {
     "name": "stdout",
     "output_type": "stream",
     "text": [
      "loading annotations into memory...\n",
      "Done (t=11.54s)\n",
      "creating index...\n",
      "index created!\n"
     ]
    }
   ],
   "source": [
    "# initialize COCO api for instance annotations\n",
    "coco=COCO(annFile)"
   ]
  },
  {
   "cell_type": "code",
   "execution_count": 5,
   "metadata": {},
   "outputs": [],
   "source": [
    "_img=os.path.join(TRAIN_DIR,'images')\n",
    "_msk=os.path.join(TRAIN_DIR,'masks')\n",
    "catIds = coco.getCatIds()\n",
    "imgIds = coco.getImgIds()\n",
    "file_name_list=[((coco.loadImgs(imid)[0])['file_name']) for imid in imgIds]\n",
    "\n",
    "def findAnnotationMatchingCriteria(anns,imgdata,lowerCutoff=0.01,upperCutoff=0.2):\n",
    "    annotation_count=len(anns)    \n",
    "    toReturn=[]\n",
    "    indexes=random.sample(range(annotation_count),annotation_count)\n",
    "    while len(indexes)>0:\n",
    "        h,w,c=imgdata.shape\n",
    "        mask=coco.annToMask(anns[indexes.pop()])\n",
    "        forgedPixelsCount=collections.Counter(mask.flatten())[1]  \n",
    "        if forgedPixelsCount>= (h*w*lowerCutoff) and forgedPixelsCount<=(h*w*upperCutoff):\n",
    "            toReturn=mask\n",
    "            break\n",
    "        \n",
    "    return toReturn\n",
    "\n",
    "\n",
    "\n",
    "def getAffineTransformedMask(foreground,binarymask):\n",
    "    \n",
    "    indices = np.where(binarymask == 1)\n",
    "    upper = np.min(indices[0])\n",
    "    lower = np.max(indices[0])\n",
    "    left = np.min(indices[1])\n",
    "    right = np.max(indices[1])\n",
    "    \n",
    "    width = right - left\n",
    "    height= lower - upper\n",
    "    n = random.randint(10,100)\n",
    "    hor_right = False if (binarymask.shape[1] - (right+ n +width)) <= 0 else True\n",
    "    hor_left = False if (left - (n+width)) <= 0 else True \n",
    "\n",
    "    side = \"\"\n",
    "    if hor_right == True and hor_left == True:\n",
    "        side=random.sample([\"R\",\"L\"],1)[0]\n",
    "        \n",
    "    elif hor_right == True and hor_left == False:\n",
    "        side = \"R\"\n",
    "\n",
    "    elif hor_right == False and hor_left == True:\n",
    "        side = \"L\"\n",
    "    else:\n",
    "        return([],[])\n",
    "\n",
    "    if side == \"L\":\n",
    "        S = -(width+n)\n",
    "    else:\n",
    "        S = width+n\n",
    "\n",
    "    v = 0    \n",
    "    lu = random.randint(0,1)\n",
    "    if((upper-10)>1 and (binarymask.shape[0]-lower-10) >1):\n",
    "        if lu == 1:\n",
    "            v = -random.randint(1,upper-10)\n",
    "        else:\n",
    "            v = random.randint(1,binarymask.shape[0]-lower-10)\n",
    "    elif (upper-10)>1 :\n",
    "        v = -random.randint(1,upper-10)\n",
    "    elif (binarymask.shape[0]-lower-10) >1:\n",
    "        v = random.randint(1,binarymask.shape[0]-lower-10)\n",
    "    else:\n",
    "        return([],[])\n",
    "        \n",
    "    rows,cols = binarymask.shape\n",
    "    \n",
    "    M = np.float32([[1,0,S],[0,1,v]])\n",
    "    transformedForeground = cv2.warpAffine(foreground,M,(cols,rows))\n",
    "    transformedBinaryMask= cv2.warpAffine(binarymask,M,(cols,rows))\n",
    "    return(transformedForeground,transformedBinaryMask)\n",
    "        \n",
    "def transform(binarymask,imgdata,double_forge=False):\n",
    "    if double_forge:\n",
    "        scale=1\n",
    "        angle=0\n",
    "    else:\n",
    "        scale=round(random.uniform(0.2,1.8),1) \n",
    "        angle=random.randint(0,90)\n",
    "\n",
    "    imgdata=Image.fromarray(imgdata)\n",
    "    imgdata=imgdata.resize((int(imgdata.size[0]*scale),int(imgdata.size[1]*scale)))\n",
    "    imgdata=imgdata.rotate(angle)\n",
    "    foreground=np.array(imgdata).copy()\n",
    "    imgdata=np.array(imgdata)\n",
    "    \n",
    "    binarymask=Image.fromarray(binarymask)\n",
    "    binarymask=binarymask.resize((int(binarymask.size[0]*scale),int(binarymask.size[1]*scale)))\n",
    "    binarymask=binarymask.rotate(angle,Image.NEAREST)\n",
    "    binarymask=np.array(binarymask)\n",
    "    \n",
    "    \n",
    "    \n",
    "    foreground[:,:,0]=np.array(imgdata[:,:,0] * binarymask )\n",
    "    foreground[:,:,1]=np.array(imgdata[:,:,1] * binarymask )\n",
    "    foreground[:,:,2]=np.array(imgdata[:,:,2] * binarymask )\n",
    "    \n",
    "    \n",
    "    return foreground,binarymask\n",
    "    "
   ]
  },
  {
   "cell_type": "code",
   "execution_count": 7,
   "metadata": {},
   "outputs": [
    {
     "data": {
      "application/vnd.jupyter.widget-view+json": {
       "model_id": "277925af2d244419892108f77526830e",
       "version_major": 2,
       "version_minor": 0
      },
      "text/plain": [
       "HBox(children=(FloatProgress(value=0.0, max=82783.0), HTML(value='')))"
      ]
     },
     "metadata": {},
     "output_type": "display_data"
    },
    {
     "name": "stdout",
     "output_type": "stream",
     "text": [
      "\n"
     ]
    }
   ],
   "source": [
    "counter=len([img_path for img_path in glob(os.path.join(TRAIN_DIR,'images','*.*'))])\n",
    "\n",
    "\n",
    "src = list(zip(imgIds,file_name_list))\n",
    "\n",
    "random.shuffle(src)\n",
    "\n",
    "imgIds,file_name_list= zip(*src)\n",
    "\n",
    "for imgId,file_name in tqdm(zip(imgIds,file_name_list),total=len(file_name_list)):\n",
    "    \n",
    "        imgdata=cv2.imread(os.path.join(COCO_DATA_PATH,file_name))\n",
    "        imgdata=cv2.cvtColor(imgdata,cv2.COLOR_BGR2RGB)\n",
    "        \n",
    "        annIds = coco.getAnnIds(imgIds=imgId, catIds=catIds, iscrowd=None)\n",
    "        anns = coco.loadAnns(annIds)\n",
    "        binarymask=findAnnotationMatchingCriteria(anns,imgdata)\n",
    "        if len(binarymask)==0:\n",
    "            continue\n",
    "        # originals    \n",
    "        source=binarymask.copy()\n",
    "        background=Image.fromarray(imgdata,'RGB')\n",
    "        # nb forge\n",
    "        nb_forge=random.choices(population=[1,2],weights=[0.6,0.4],k=1)[0]\n",
    "        if nb_forge==2:\n",
    "            double_forge=True\n",
    "        else:\n",
    "            double_forge=False\n",
    "          \n",
    "       \n",
    "        #transformation\n",
    "        foreground,binarymask=transform(binarymask,imgdata,double_forge)\n",
    "         # zero area exception\n",
    "        try:\n",
    "            indices = np.where(binarymask == 1)\n",
    "            upper = np.min(indices[0])\n",
    "            lower = np.max(indices[0])\n",
    "            left = np.min(indices[1])\n",
    "            right = np.max(indices[1])\n",
    "        except:\n",
    "            continue\n",
    "            \n",
    "        forges=[]\n",
    "        for i in range(nb_forge):\n",
    "            new_foreground,new_binarymask=getAffineTransformedMask(foreground,binarymask)\n",
    "            if(len(new_foreground)==0):\n",
    "                continue\n",
    "            new_foreground=Image.fromarray(new_foreground,'RGB').convert('RGBA')\n",
    "            new_binarymask=Image.fromarray(new_binarymask*255)\n",
    "            #image\n",
    "            datas=new_foreground.getdata()\n",
    "            newData = []\n",
    "            for item in datas:\n",
    "                if item[0] == 0 and item[1] == 0 and item[2] == 0:\n",
    "                    newData.append((0, 0, 0, 0))\n",
    "                else:\n",
    "                    newData.append(item)\n",
    "            new_foreground.putdata(newData)\n",
    "\n",
    "            background.paste(new_foreground,(0,0),mask=new_foreground.split()[3])\n",
    "            # mask\n",
    "            datas=new_binarymask.getdata()\n",
    "            newData = []\n",
    "            for item in datas:\n",
    "                if item==0:\n",
    "                    newData.append(0)\n",
    "                else:\n",
    "                    newData.append(item)\n",
    "            forge=Image.fromarray(np.zeros(source.shape))\n",
    "            forge.paste(new_binarymask,(0,0))\n",
    "            forge=np.array(forge)\n",
    "            forge=forge.astype('uint8')\n",
    "            forges.append(forge)\n",
    "            \n",
    "        \n",
    "        if len(forges)==0:\n",
    "            continue\n",
    "        source=(source*255).astype('uint8')\n",
    "        \n",
    "        for forge in forges:\n",
    "            source=source+forge\n",
    "            source[source>0]=255\n",
    "            \n",
    "        source= cv2.resize(source,(IMG_DIM,IMG_DIM),fx=0, fy=0, interpolation = cv2.INTER_NEAREST)\n",
    "        background=background.resize(size=(IMG_DIM,IMG_DIM))\n",
    "        background.save(os.path.join(_img,'{}.png'.format(counter)))\n",
    "        cv2.imwrite(os.path.join(_msk,'{}.png'.format(counter)),source)\n",
    "        counter+=1\n",
    "        "
   ]
  },
  {
   "cell_type": "markdown",
   "metadata": {},
   "source": [
    "# TFRecords For GCS"
   ]
  },
  {
   "cell_type": "code",
   "execution_count": 8,
   "metadata": {},
   "outputs": [],
   "source": [
    "import tensorflow as tf \n",
    "import imghdr\n",
    "tf.__version__\n",
    "\n",
    "import math\n",
    "\n",
    "# record dir\n",
    "def create_dir(_path):\n",
    "    if not os.path.exists(_path):\n",
    "        os.mkdir(_path)\n",
    "    return _path\n",
    "\n",
    "tf_dir=create_dir(os.path.join(DS_DIR,'CMFDTF'))\n",
    "tf_train=create_dir(os.path.join(tf_dir,'Train'))\n",
    "tf_eval=create_dir(os.path.join(tf_dir,'Eval'))\n",
    "\n",
    "\n",
    "def _bytes_feature(value):\n",
    "    return tf.train.Feature(bytes_list=tf.train.BytesList(value=[value]))\n",
    "def _int64_feature(value):\n",
    "      return tf.train.Feature(int64_list=tf.train.Int64List(value=[value]))\n",
    "def _float_feature(value):\n",
    "      return tf.train.Feature(float_list=tf.train.FloatList(value=[value]))\n",
    "\n",
    "data_num    = 256\n",
    "\n",
    "def to_tfrecord(image_paths,save_dir,r_num):\n",
    "    tfrecord_name='{}.tfrecord'.format(r_num)\n",
    "    tfrecord_path=os.path.join(save_dir,tfrecord_name)\n",
    "    with tf.io.TFRecordWriter(tfrecord_path) as writer:    \n",
    "        for image_path in image_paths:\n",
    "            target_path=str(image_path).replace('images','masks')\n",
    "            \n",
    "            with(open(image_path,'rb')) as fid:\n",
    "                image_png_bytes=fid.read()\n",
    "            with(open(target_path,'rb')) as fid:\n",
    "                target_png_bytes=fid.read()\n",
    "            \n",
    "            data ={ 'image':_bytes_feature(image_png_bytes),\n",
    "                    'mask':_bytes_feature(target_png_bytes)\n",
    "            }\n",
    "            features=tf.train.Features(feature=data)\n",
    "            example= tf.train.Example(features=features)\n",
    "            serialized=example.SerializeToString()\n",
    "            writer.write(serialized)\n",
    "\n",
    "\n",
    "def genTFRecords(data_paths,mode_dir):\n",
    "    _paths=[]\n",
    "    for img_path in tqdm(data_paths):\n",
    "        msk_path=str(img_path).replace('images','masks')\n",
    "        if imghdr.what(img_path) is 'png' and imghdr.what(msk_path) is 'png':\n",
    "            _paths.append(img_path)\n",
    "    print('Found Valid Images:',len(_paths))\n",
    "    random.shuffle(_paths)\n",
    "    for i in tqdm(range(0,len(_paths),data_num)):\n",
    "        image_paths= _paths[i:i+data_num]\n",
    "        random.shuffle(image_paths)        \n",
    "        r_num=i // data_num\n",
    "        to_tfrecord(image_paths,mode_dir,r_num)"
   ]
  },
  {
   "cell_type": "markdown",
   "metadata": {},
   "source": [
    "# TFRecord Generation"
   ]
  },
  {
   "cell_type": "code",
   "execution_count": 9,
   "metadata": {},
   "outputs": [
    {
     "data": {
      "application/vnd.jupyter.widget-view+json": {
       "model_id": "5c21dd6e4c8b4999a92c62dde819cda0",
       "version_major": 2,
       "version_minor": 0
      },
      "text/plain": [
       "HBox(children=(FloatProgress(value=0.0, max=48105.0), HTML(value='')))"
      ]
     },
     "metadata": {},
     "output_type": "display_data"
    },
    {
     "name": "stdout",
     "output_type": "stream",
     "text": [
      "\n"
     ]
    },
    {
     "data": {
      "application/vnd.jupyter.widget-view+json": {
       "model_id": "296b151e1bff41d29125809f4a54f160",
       "version_major": 2,
       "version_minor": 0
      },
      "text/plain": [
       "HBox(children=(FloatProgress(value=0.0, max=6311.0), HTML(value='')))"
      ]
     },
     "metadata": {},
     "output_type": "display_data"
    },
    {
     "name": "stdout",
     "output_type": "stream",
     "text": [
      "\n"
     ]
    },
    {
     "data": {
      "application/vnd.jupyter.widget-view+json": {
       "model_id": "294939154c8149729840e85de431f142",
       "version_major": 2,
       "version_minor": 0
      },
      "text/plain": [
       "HBox(children=(FloatProgress(value=0.0, max=48105.0), HTML(value='')))"
      ]
     },
     "metadata": {},
     "output_type": "display_data"
    },
    {
     "name": "stdout",
     "output_type": "stream",
     "text": [
      "\n",
      "Found Valid Images: 48105\n"
     ]
    },
    {
     "data": {
      "application/vnd.jupyter.widget-view+json": {
       "model_id": "62b02dbbaf134625a6b21e9097271f8f",
       "version_major": 2,
       "version_minor": 0
      },
      "text/plain": [
       "HBox(children=(FloatProgress(value=0.0, max=188.0), HTML(value='')))"
      ]
     },
     "metadata": {},
     "output_type": "display_data"
    },
    {
     "name": "stdout",
     "output_type": "stream",
     "text": [
      "\n"
     ]
    },
    {
     "data": {
      "application/vnd.jupyter.widget-view+json": {
       "model_id": "aa0a1c4cb0b64c1796c43644efbcf529",
       "version_major": 2,
       "version_minor": 0
      },
      "text/plain": [
       "HBox(children=(FloatProgress(value=0.0, max=6311.0), HTML(value='')))"
      ]
     },
     "metadata": {},
     "output_type": "display_data"
    },
    {
     "name": "stdout",
     "output_type": "stream",
     "text": [
      "\n",
      "Found Valid Images: 6311\n"
     ]
    },
    {
     "data": {
      "application/vnd.jupyter.widget-view+json": {
       "model_id": "2239063fd3f342168488ad9747b16b0b",
       "version_major": 2,
       "version_minor": 0
      },
      "text/plain": [
       "HBox(children=(FloatProgress(value=0.0, max=25.0), HTML(value='')))"
      ]
     },
     "metadata": {},
     "output_type": "display_data"
    },
    {
     "name": "stdout",
     "output_type": "stream",
     "text": [
      "\n"
     ]
    }
   ],
   "source": [
    "        \n",
    "train_paths=[img_path for img_path in tqdm(glob(os.path.join(TRAIN_DIR,'images','*.*')))]\n",
    "eval_paths=[img_path for img_path in tqdm(glob(os.path.join(EVAL_DIR,'images','*.*')))]\n",
    "\n",
    "random.shuffle(train_paths)\n",
    "random.shuffle(eval_paths)\n",
    "\n",
    "\n",
    "genTFRecords(train_paths,tf_train)\n",
    "genTFRecords(eval_paths,tf_eval)\n"
   ]
  }
 ],
 "metadata": {
  "kernelspec": {
   "display_name": "cmenv",
   "language": "python",
   "name": "cmenv"
  },
  "language_info": {
   "codemirror_mode": {
    "name": "ipython",
    "version": 3
   },
   "file_extension": ".py",
   "mimetype": "text/x-python",
   "name": "python",
   "nbconvert_exporter": "python",
   "pygments_lexer": "ipython3",
   "version": "3.6.9"
  }
 },
 "nbformat": 4,
 "nbformat_minor": 4
}
